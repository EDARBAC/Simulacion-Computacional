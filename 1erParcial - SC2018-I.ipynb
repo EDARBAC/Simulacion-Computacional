{
 "cells": [
  {
   "cell_type": "markdown",
   "metadata": {},
   "source": [
    "## 1er Parcial - Simulación Computacional 2018-I\n"
   ]
  },
  {
   "cell_type": "markdown",
   "metadata": {},
   "source": [
    "_(0.5 puntos)_\n",
    "** 1) Son dos distribuciones de probabilidad discretas: 1. Distribución Exponencial 2. Distribución Binomial 3. Distribución Normal 4. Distribución Bernoulli**\n",
    "\n",
    "    A. Si las opciones 1 y 2 son correctas\n",
    "    B. Si las opciones 2 y 3 son correctas\n",
    "    C. Si las opciones 3 y 4 son correctas\n",
    "    D. Si las opciones 2 y 4 son correctas\n",
    "    E. Si las opciones 1 y 3 son correctas"
   ]
  },
  {
   "cell_type": "markdown",
   "metadata": {},
   "source": [
    "D."
   ]
  },
  {
   "cell_type": "markdown",
   "metadata": {},
   "source": [
    "_(0.5 puntos)_\n",
    "**2) Una secuencia de valores pseudoaletorios debe asegurar: 1. Uniformidad 2. Complejidad 3. Aleatoriedad 4. Circularidad**\n",
    "\n",
    "    A. Si las opciones 1 y 2 son correctas\n",
    "    B. Si las opciones 2 y 3 son correctas\n",
    "    C. Si las opciones 3 y 4 son correctas\n",
    "    D. Si las opciones 2 y 4 son correctas\n",
    "    E. Si las opciones 1 y 3 son correctas"
   ]
  },
  {
   "cell_type": "markdown",
   "metadata": {},
   "source": [
    "E."
   ]
  },
  {
   "cell_type": "markdown",
   "metadata": {},
   "source": [
    "_(0.5 puntos)_\n",
    "**3) Sea $X_n = ( aX_{n-1} + b ) \\mod m$ un generador congruencial con los siguientes parámetros: $m=731$, $a=99999$, $b=123$ y $X_0=987654321$ ¿Cúales son los primeros veinticinco números aleatorios $U_i$? (con cuatro cifras decimales de precisión, Ej. 0.1234)**\n"
   ]
  },
  {
   "cell_type": "code",
   "execution_count": 9,
   "metadata": {},
   "outputs": [
    {
     "name": "stdout",
     "output_type": "stream",
     "text": [
      "0.4241\n",
      "0.4049\n",
      "0.2394\n",
      "0.7373\n",
      "0.04104\n",
      "0.09439\n",
      "0.1984\n",
      "0.8112\n",
      "0.1081\n",
      "0.1737\n",
      "0.4555\n",
      "0.7483\n",
      "0.4213\n",
      "0.8098\n",
      "0.3105\n",
      "0.2093\n",
      "0.1915\n",
      "0.8235\n",
      "0.2859\n",
      "0.8536\n",
      "0.8317\n",
      "0.07114\n",
      "0.6402\n",
      "0.4159\n",
      "0.6197\n"
     ]
    }
   ],
   "source": [
    "import math\n",
    "\n",
    "xn = 987654321\n",
    "a = 99999\n",
    "m = 731\n",
    "c = 123\n",
    "\n",
    "def generar_aleatorio():\n",
    "    global xn\n",
    "    x = (a*xn + c) % m\n",
    "    xn = x\n",
    "    return (x/m)\n",
    "\n",
    "for i in range(25):\n",
    "    u = generar_aleatorio()\n",
    "    print(format(u,\".4\"))"
   ]
  },
  {
   "cell_type": "markdown",
   "metadata": {},
   "source": [
    "_(0.5 puntos)_ **4) ¿Cúal es el valor del estadístico de Chi-cuadrado para una secuencia de $2000$ numeros aleatorios y un $k=100$ de un generador congruencial mixto con $a = 16645$, $b = 13467$, $m = 317$, $X_0 = 999$?**"
   ]
  },
  {
   "cell_type": "code",
   "execution_count": 14,
   "metadata": {},
   "outputs": [
    {
     "name": "stdout",
     "output_type": "stream",
     "text": [
      "Estadistico:  616.5\n"
     ]
    }
   ],
   "source": [
    "import math\n",
    "\n",
    "class chi2:\n",
    "    \n",
    "    xn = 0\n",
    "    a = 0 \n",
    "    m = 0\n",
    "    c = 0\n",
    "    n = 0\n",
    "    alp = 0\n",
    "    k = 0\n",
    "    plt1 = pl\n",
    "    \n",
    "    \n",
    "    def __init__(self,alp,k,xn,a,m,n,c = 0):\n",
    "        self.xn = xn\n",
    "        self.a = a\n",
    "        self.m = m\n",
    "        self.c = c\n",
    "        self.n = n\n",
    "        self.alp = alp\n",
    "        self.k = k\n",
    "\n",
    "    def generar_aleatorio(self):\n",
    "        x = (self.a*self.xn + self.c) % self.m\n",
    "        self.xn = x\n",
    "        return(x/self.m)\n",
    "        \n",
    "    def getvAl(self):\n",
    "        v = [None]*self.n\n",
    "        for i in range(self.n):\n",
    "            v[i] = self.generar_aleatorio()\n",
    "        return v\n",
    "    \n",
    "    def getFre(self,v):\n",
    "        fre = pl.hist(v,self.k)[0]\n",
    "        pl.close()\n",
    "        return fre\n",
    "    \n",
    "    def chi_2(self):\n",
    "        v = self.getvAl()\n",
    "        re = self.getFre(v)\n",
    "        suma = 0\n",
    "        ex = self.n/self.k\n",
    "        \n",
    "        for i in range(self.k):\n",
    "            suma += (re[i] - ex )**2/ex\n",
    "            \n",
    "        print(\"Estadistico: \",suma)\n",
    "\n",
    "\n",
    "\n",
    "a = 16645\n",
    "c = 13467\n",
    "m = 317\n",
    "xo = 999\n",
    "k = 100\n",
    "n = 2000\n",
    "alpha = 16.919\n",
    "\n",
    "x = chi2(alpha,k,xo,a,m,n,c)\n",
    "x.chi_2()\n"
   ]
  },
  {
   "cell_type": "markdown",
   "metadata": {},
   "source": [
    "_(0.5 puntos)_\n",
    "**5) Sea $X_n = ( aX_{n-1} + b )$ mod $m$ un generador congruencial con los siguientes parámetros: $m=271$, $a=139$, $b=17$ y $X_0=9$, generar los primeros $10$ valores $X_i$ y $U_i$. ¿Cúales son los primeros cinco numeros aleatorios $U_i$?**"
   ]
  },
  {
   "cell_type": "code",
   "execution_count": 41,
   "metadata": {},
   "outputs": [
    {
     "name": "stdout",
     "output_type": "stream",
     "text": [
      "X1: 184.0   U1: 0.6789667896678967\n",
      "X2: 119.0   U2: 0.43911439114391143\n",
      "X3: 27.0   U3: 0.0996309963099631\n",
      "X4: 247.0   U4: 0.9114391143911439\n",
      "X5: 204.0   U5: 0.7527675276752768\n"
     ]
    }
   ],
   "source": [
    "import math\n",
    "\n",
    "xn = 9\n",
    "a = 139\n",
    "m = 271\n",
    "c = 17\n",
    "\n",
    "def generar_aleatorio():\n",
    "    global xn\n",
    "    x = (a*xn + c) % m\n",
    "    xn = x\n",
    "    return (x/m)\n",
    "\n",
    "for i in range(5):\n",
    "    u = generar_aleatorio()\n",
    "    x = u*m\n",
    "    print(\"X\"+str(i+1)+\": \"+str(x)+\"   \"+\"U\"+str(i+1)+\": \"+str(u))"
   ]
  },
  {
   "cell_type": "markdown",
   "metadata": {},
   "source": [
    "_(0.5 puntos)_\n",
    "**6) Dados los siguientes valores de la distribución de probabilidad discreta de la variable aleatoria $X$ de un dado: $X = {1,2,3,4,5,6}$, $p(X) = {0.2,0.1,0.05,0.2,0.05,0.4}$, ¿Qué valores retornaría el generador de variables aleatorias por el método de la inversión si los números aleatorios generados son: $U = {0.4280, 0.5609, 0.0258, 0.6531, 0.8487, 0.0332, 0.6790, 0.4391}$?**"
   ]
  },
  {
   "cell_type": "code",
   "execution_count": 40,
   "metadata": {},
   "outputs": [
    {
     "name": "stdout",
     "output_type": "stream",
     "text": [
      "0.428 : 4\n",
      "0.5609 : 5\n",
      "0.0258 : 1\n",
      "0.6531 : 6\n",
      "0.8487 : 6\n",
      "0.0332 : 1\n",
      "Variables Aleatorias Generadas con U:  [1, None, None, 4, 5, 6]\n"
     ]
    }
   ],
   "source": [
    "fa = []\n",
    "n = 0\n",
    "i = 0\n",
    "\n",
    "def inicializar(pp,uu):\n",
    "    global p,u,n\n",
    "    p = pp\n",
    "    u= uu\n",
    "    n = len(p)\n",
    "    \n",
    "        \n",
    "def set_fa():\n",
    "    global fa, valido\n",
    "    x0 = p[0]\n",
    "    fa.append(x0)\n",
    "    for i in range(1,n):\n",
    "        x0 = x0 + p[i]\n",
    "        fa.append(x0)\n",
    "    #print(fa)\n",
    "        \n",
    "def get_aleatorio():\n",
    "    global i\n",
    "    x = u[i]\n",
    "    if(i<n):\n",
    "        i += 1\n",
    "    return (x)\n",
    "\n",
    "def transInv():\n",
    "    set_fa()\n",
    "    u = 0\n",
    "    i = 0\n",
    "    va = [None]*n;\n",
    "    cont = n;\n",
    "    while cont>0:\n",
    "        u = get_aleatorio()\n",
    "        i = buscarmayor(u)\n",
    "        if(i != -1):\n",
    "            if(u < fa[i]):\n",
    "                cont-=1\n",
    "                print(str(u) + \" : \" + str(i+1))\n",
    "            if((i+1) not in va):\n",
    "                va[i] = i+1\n",
    "    print(\"Variables Aleatorias Generadas con U: \",va)\n",
    "    \n",
    "def buscarmayor(u):\n",
    "    indice = -1\n",
    "    for i in range(0,n):\n",
    "        if(fa[i]-u >= 0.000000000000001):\n",
    "            indice = i\n",
    "            break\n",
    "    return indice\n",
    "\n",
    "if __name__ == \"__main__\":\n",
    "    pp = [0.2,0.1,0.05,0.2,0.05,0.4]\n",
    "    uu = [0.4280,0.5609,0.0258,0.6531,0.8487,0.0332,0.6790,0.4391]\n",
    "    inicializar(pp,uu)\n",
    "    transInv()"
   ]
  },
  {
   "cell_type": "markdown",
   "metadata": {},
   "source": [
    "_(1 punto)_\n",
    "**7) Ud ha sido contratado para desarrollar un casino en línea. Entre los juegos del casino se necesita implementar un juego de mesa para el lanzamiento de dados el cual es necesario simular. Sin embargo, la novedad del juego en línea es que se lanzan 3 dados del estilo de World of Warcraft (WoW), es decir no necesariamente 3 dados convencionales de seis caras (d6) como en la mayoría de casinos. En este caso, Ud debe:**\n",
    "\n",
    "    a) Implementar una función que simule la suma del lanzamiento de 3 dados usando un generador congruencial mixto y un método de generación de variables aleatorias discretas. En donde, el primer dado tiene cuatro caras (d4), el segundo dado tiene diez caras (d10), y el tercero dado tiene 20 caras (d20).\n",
    "    b) Generar y mostrar la suma de los tres dados para 1000 lanzamientos.\n",
    "\n",
    "**Tomando en cuenta que la variable aleatoria es la suma de las caras de los tres dados, entonces:**\n",
    "\n",
    "    c) ¿Cuál es el valor esperado teórico?\n",
    "    d) ¿Cuál es el promedio de los anteriores 1000 lanzamientos?\n",
    "    e) ¿Cuál es la moda de los anteriores 1000 lanzamientos?"
   ]
  },
  {
   "cell_type": "code",
   "execution_count": 68,
   "metadata": {},
   "outputs": [
    {
     "name": "stdout",
     "output_type": "stream",
     "text": [
      "d4\n",
      "[1, 2, 3, 4, 0, 0, 0, 0, 0, 0, 0, 0, 0, 0, 0, 0, 0, 0, 0, 0, 0, 0, 0, 0, 0, 0, 0, 0, 0, 0, 0, 0, 0, 0, 0, 0, 0, 0, 0, 0, 0, 0, 0, 0, 0, 0, 0, 0, 0, 0, 0, 0, 0, 0, 0, 0, 0, 0, 0, 0, 0, 0, 0, 0, 0, 0, 0, 0, 0, 0, 0, 0, 0, 0, 0, 0, 0, 0, 0, 0, 0, 0, 0, 0, 0, 0, 0, 0, 0, 0, 0, 0, 0, 0, 0, 0, 0, 0, 0, 0, 0, 0, 0, 0, 0, 0, 0, 0, 0, 0, 0, 0, 0, 0, 0, 0, 0, 0, 0, 0, 0, 0, 0, 0, 0, 0, 0, 0, 0, 0, 0, 0, 0, 0, 0, 0, 0, 0, 0, 0, 0, 0, 0, 0, 0, 0, 0, 0, 0, 0, 0, 0, 0, 0, 0, 0, 0, 0, 0, 0, 0, 0, 0, 0, 0, 0, 0, 0, 0, 0, 0, 0, 0, 0, 0, 0, 0, 0, 0, 0, 0, 0, 0, 0, 0, 0, 0, 0, 0, 0, 0, 0, 0, 0, 0, 0, 0, 0, 0, 0, 0, 0, 0, 0, 0, 0, 0, 0, 0, 0, 0, 0, 0, 0, 0, 0, 0, 0, 0, 0, 0, 0, 0, 0, 0, 0, 0, 0, 0, 0, 0, 0, 0, 0, 0, 0, 0, 0, 0, 0, 0, 0, 0, 0, 0, 0, 0, 0, 0, 0, 0, 0, 0, 0, 0, 0, 0, 0, 0, 0, 0, 0, 0, 0, 0, 0, 0, 0, 0, 0, 0, 0, 0, 0, 0, 0, 0, 0, 0, 0, 0, 0, 0, 0, 0, 0, 0, 0, 0, 0, 0, 0, 0, 0, 0, 0, 0, 0, 0, 0, 0, 0, 0, 0, 0, 0, 0, 0, 0, 0, 0, 0, 0, 0, 0, 0, 0, 0, 0, 0, 0, 0, 0, 0, 0, 0, 0, 0, 0, 0, 0, 0, 0, 0, 0, 0, 0, 0, 0, 0, 0, 0, 0, 0, 0, 0, 0, 0, 0, 0, 0, 0, 0, 0, 0, 0, 0, 0, 0, 0, 0, 0, 0, 0, 0, 0, 0, 0, 0, 0, 0, 0, 0, 0, 0, 0, 0, 0, 0, 0, 0, 0, 0, 0, 0, 0, 0, 0, 0, 0, 0, 0, 0, 0, 0, 0, 0, 0, 0, 0, 0, 0, 0, 0, 0, 0, 0, 0, 0, 0, 0, 0, 0, 0, 0, 0, 0, 0, 0, 0, 0, 0, 0, 0, 0, 0, 0, 0, 0, 0, 0, 0, 0, 0, 0, 0, 0, 0, 0, 0, 0, 0, 0, 0, 0, 0, 0, 0, 0, 0, 0, 0, 0, 0, 0, 0, 0, 0, 0, 0, 0, 0, 0, 0, 0, 0, 0, 0, 0, 0, 0, 0, 0, 0, 0, 0, 0, 0, 0, 0, 0, 0, 0, 0, 0, 0, 0, 0, 0, 0, 0, 0, 0, 0, 0, 0, 0, 0, 0, 0, 0, 0, 0, 0, 0, 0, 0, 0, 0, 0, 0, 0, 0, 0, 0, 0, 0, 0, 0, 0, 0, 0, 0, 0, 0, 0, 0, 0, 0, 0, 0, 0, 0, 0, 0, 0, 0, 0, 0, 0, 0, 0, 0, 0, 0, 0, 0, 0, 0, 0, 0, 0, 0, 0, 0, 0, 0, 0, 0, 0, 0, 0, 0, 0, 0, 0, 0, 0, 0, 0, 0, 0, 0, 0, 0, 0, 0, 0, 0, 0, 0, 0, 0, 0, 0, 0, 0, 0, 0, 0, 0, 0, 0, 0, 0, 0, 0, 0, 0, 0, 0, 0, 0, 0, 0, 0, 0, 0, 0, 0, 0, 0, 0, 0, 0, 0, 0, 0, 0, 0, 0, 0, 0, 0, 0, 0, 0, 0, 0, 0, 0, 0, 0, 0, 0, 0, 0, 0, 0, 0, 0, 0, 0, 0, 0, 0, 0, 0, 0, 0, 0, 0, 0, 0, 0, 0, 0, 0, 0, 0, 0, 0, 0, 0, 0, 0, 0, 0, 0, 0, 0, 0, 0, 0, 0, 0, 0, 0, 0, 0, 0, 0, 0, 0, 0, 0, 0, 0, 0, 0, 0, 0, 0, 0, 0, 0, 0, 0, 0, 0, 0, 0, 0, 0, 0, 0, 0, 0, 0, 0, 0, 0, 0, 0, 0, 0, 0, 0, 0, 0, 0, 0, 0, 0, 0, 0, 0, 0, 0, 0, 0, 0, 0, 0, 0, 0, 0, 0, 0, 0, 0, 0, 0, 0, 0, 0, 0, 0, 0, 0, 0, 0, 0, 0, 0, 0, 0, 0, 0, 0, 0, 0, 0, 0, 0, 0, 0, 0, 0, 0, 0, 0, 0, 0, 0, 0, 0, 0, 0, 0, 0, 0, 0, 0, 0, 0, 0, 0, 0, 0, 0, 0, 0, 0, 0, 0, 0, 0, 0, 0, 0, 0, 0, 0, 0, 0, 0, 0, 0, 0, 0, 0, 0, 0, 0, 0, 0, 0, 0, 0, 0, 0, 0, 0, 0, 0, 0, 0, 0, 0, 0, 0, 0, 0, 0, 0, 0, 0, 0, 0, 0, 0, 0, 0, 0, 0, 0, 0, 0, 0, 0, 0, 0, 0, 0, 0, 0, 0, 0, 0, 0, 0, 0, 0, 0, 0, 0, 0, 0, 0, 0, 0, 0, 0, 0, 0, 0, 0, 0, 0, 0, 0, 0, 0, 0, 0, 0, 0, 0, 0, 0, 0, 0, 0, 0, 0, 0, 0, 0, 0, 0, 0, 0, 0, 0, 0, 0, 0, 0, 0, 0, 0, 0, 0, 0, 0, 0, 0, 0, 0, 0, 0, 0, 0, 0, 0, 0, 0, 0, 0, 0, 0, 0, 0, 0, 0, 0, 0, 0, 0, 0, 0, 0, 0, 0, 0, 0, 0, 0, 0, 0, 0, 0, 0, 0, 0, 0, 0, 0, 0, 0, 0, 0, 0, 0, 0, 0, 0, 0, 0, 0, 0, 0, 0, 0, 0, 0, 0, 0, 0, 0, 0, 0, 0, 0, 0, 0, 0, 0, 0, 0, 0, 0, 0, 0, 0, 0, 0, 0, 0] : [0.07034871464504658, 0.4593002361285217, 0.7319144132615375, 0.7933254130471027, 0, 0, 0, 0, 0, 0, 0, 0, 0, 0, 0, 0, 0, 0, 0, 0, 0, 0, 0, 0, 0, 0, 0, 0, 0, 0, 0, 0, 0, 0, 0, 0, 0, 0, 0, 0, 0, 0, 0, 0, 0, 0, 0, 0, 0, 0, 0, 0, 0, 0, 0, 0, 0, 0, 0, 0, 0, 0, 0, 0, 0, 0, 0, 0, 0, 0, 0, 0, 0, 0, 0, 0, 0, 0, 0, 0, 0, 0, 0, 0, 0, 0, 0, 0, 0, 0, 0, 0, 0, 0, 0, 0, 0, 0, 0, 0, 0, 0, 0, 0, 0, 0, 0, 0, 0, 0, 0, 0, 0, 0, 0, 0, 0, 0, 0, 0, 0, 0, 0, 0, 0, 0, 0, 0, 0, 0, 0, 0, 0, 0, 0, 0, 0, 0, 0, 0, 0, 0, 0, 0, 0, 0, 0, 0, 0, 0, 0, 0, 0, 0, 0, 0, 0, 0, 0, 0, 0, 0, 0, 0, 0, 0, 0, 0, 0, 0, 0, 0, 0, 0, 0, 0, 0, 0, 0, 0, 0, 0, 0, 0, 0, 0, 0, 0, 0, 0, 0, 0, 0, 0, 0, 0, 0, 0, 0, 0, 0, 0, 0, 0, 0, 0, 0, 0, 0, 0, 0, 0, 0, 0, 0, 0, 0, 0, 0, 0, 0, 0, 0, 0, 0, 0, 0, 0, 0, 0, 0, 0, 0, 0, 0, 0, 0, 0, 0, 0, 0, 0, 0, 0, 0, 0, 0, 0, 0, 0, 0, 0, 0, 0, 0, 0, 0, 0, 0, 0, 0, 0, 0, 0, 0, 0, 0, 0, 0, 0, 0, 0, 0, 0, 0, 0, 0, 0, 0, 0, 0, 0, 0, 0, 0, 0, 0, 0, 0, 0, 0, 0, 0, 0, 0, 0, 0, 0, 0, 0, 0, 0, 0, 0, 0, 0, 0, 0, 0, 0, 0, 0, 0, 0, 0, 0, 0, 0, 0, 0, 0, 0, 0, 0, 0, 0, 0, 0, 0, 0, 0, 0, 0, 0, 0, 0, 0, 0, 0, 0, 0, 0, 0, 0, 0, 0, 0, 0, 0, 0, 0, 0, 0, 0, 0, 0, 0, 0, 0, 0, 0, 0, 0, 0, 0, 0, 0, 0, 0, 0, 0, 0, 0, 0, 0, 0, 0, 0, 0, 0, 0, 0, 0, 0, 0, 0, 0, 0, 0, 0, 0, 0, 0, 0, 0, 0, 0, 0, 0, 0, 0, 0, 0, 0, 0, 0, 0, 0, 0, 0, 0, 0, 0, 0, 0, 0, 0, 0, 0, 0, 0, 0, 0, 0, 0, 0, 0, 0, 0, 0, 0, 0, 0, 0, 0, 0, 0, 0, 0, 0, 0, 0, 0, 0, 0, 0, 0, 0, 0, 0, 0, 0, 0, 0, 0, 0, 0, 0, 0, 0, 0, 0, 0, 0, 0, 0, 0, 0, 0, 0, 0, 0, 0, 0, 0, 0, 0, 0, 0, 0, 0, 0, 0, 0, 0, 0, 0, 0, 0, 0, 0, 0, 0, 0, 0, 0, 0, 0, 0, 0, 0, 0, 0, 0, 0, 0, 0, 0, 0, 0, 0, 0, 0, 0, 0, 0, 0, 0, 0, 0, 0, 0, 0, 0, 0, 0, 0, 0, 0, 0, 0, 0, 0, 0, 0, 0, 0, 0, 0, 0, 0, 0, 0, 0, 0, 0, 0, 0, 0, 0, 0, 0, 0, 0, 0, 0, 0, 0, 0, 0, 0, 0, 0, 0, 0, 0, 0, 0, 0, 0, 0, 0, 0, 0, 0, 0, 0, 0, 0, 0, 0, 0, 0, 0, 0, 0, 0, 0, 0, 0, 0, 0, 0, 0, 0, 0, 0, 0, 0, 0, 0, 0, 0, 0, 0, 0, 0, 0, 0, 0, 0, 0, 0, 0, 0, 0, 0, 0, 0, 0, 0, 0, 0, 0, 0, 0, 0, 0, 0, 0, 0, 0, 0, 0, 0, 0, 0, 0, 0, 0, 0, 0, 0, 0, 0, 0, 0, 0, 0, 0, 0, 0, 0, 0, 0, 0, 0, 0, 0, 0, 0, 0, 0, 0, 0, 0, 0, 0, 0, 0, 0, 0, 0, 0, 0, 0, 0, 0, 0, 0, 0, 0, 0, 0, 0, 0, 0, 0, 0, 0, 0, 0, 0, 0, 0, 0, 0, 0, 0, 0, 0, 0, 0, 0, 0, 0, 0, 0, 0, 0, 0, 0, 0, 0, 0, 0, 0, 0, 0, 0, 0, 0, 0, 0, 0, 0, 0, 0, 0, 0, 0, 0, 0, 0, 0, 0, 0, 0, 0, 0, 0, 0, 0, 0, 0, 0, 0, 0, 0, 0, 0, 0, 0, 0, 0, 0, 0, 0, 0, 0, 0, 0, 0, 0, 0, 0, 0, 0, 0, 0, 0, 0, 0, 0, 0, 0, 0, 0, 0, 0, 0, 0, 0, 0, 0, 0, 0, 0, 0, 0, 0, 0, 0, 0, 0, 0, 0, 0, 0, 0, 0, 0, 0, 0, 0, 0, 0, 0, 0, 0, 0, 0, 0, 0, 0, 0, 0, 0, 0, 0, 0, 0, 0, 0, 0, 0, 0, 0, 0, 0, 0, 0, 0, 0, 0, 0, 0, 0, 0, 0, 0, 0, 0, 0, 0, 0, 0, 0, 0, 0, 0, 0, 0, 0, 0, 0, 0, 0, 0, 0, 0, 0, 0, 0, 0, 0, 0, 0, 0, 0, 0, 0, 0, 0, 0, 0, 0, 0, 0, 0, 0, 0, 0, 0, 0, 0, 0, 0, 0, 0, 0, 0, 0, 0, 0, 0, 0, 0, 0, 0, 0, 0, 0, 0, 0, 0, 0, 0, 0, 0, 0, 0, 0, 0, 0, 0, 0, 0, 0, 0, 0, 0, 0, 0, 0, 0, 0, 0, 0, 0, 0, 0, 0, 0, 0, 0, 0, 0, 0, 0, 0, 0, 0, 0, 0, 0, 0, 0, 0, 0, 0, 0, 0, 0, 0, 0, 0, 0, 0, 0, 0, 0, 0, 0, 0, 0, 0, 0, 0, 0, 0, 0, 0, 0, 0, 0, 0, 0, 0, 0, 0, 0, 0, 0, 0, 0, 0, 0, 0, 0, 0, 0, 0, 0, 0, 0, 0, 0, 0, 0]\n",
      "d10\n"
     ]
    },
    {
     "ename": "MemoryError",
     "evalue": "",
     "output_type": "error",
     "traceback": [
      "\u001b[1;31m---------------------------------------------------------------------------\u001b[0m",
      "\u001b[1;31mMemoryError\u001b[0m                               Traceback (most recent call last)",
      "\u001b[1;32m<ipython-input-68-120756ca4102>\u001b[0m in \u001b[0;36m<module>\u001b[1;34m()\u001b[0m\n\u001b[0;32m     62\u001b[0m     \u001b[0mprint\u001b[0m\u001b[1;33m(\u001b[0m\u001b[1;34m\"d10\"\u001b[0m\u001b[1;33m)\u001b[0m\u001b[1;33m\u001b[0m\u001b[0m\n\u001b[0;32m     63\u001b[0m     \u001b[0minicializar\u001b[0m\u001b[1;33m(\u001b[0m\u001b[1;36m10\u001b[0m\u001b[1;33m,\u001b[0m\u001b[1;36m1\u001b[0m\u001b[1;33m/\u001b[0m\u001b[1;36m10\u001b[0m\u001b[1;33m,\u001b[0m\u001b[0mit\u001b[0m\u001b[1;33m,\u001b[0m\u001b[0mxo\u001b[0m\u001b[1;33m)\u001b[0m\u001b[1;33m\u001b[0m\u001b[0m\n\u001b[1;32m---> 64\u001b[1;33m     \u001b[0mb\u001b[0m \u001b[1;33m=\u001b[0m \u001b[0mtransInv\u001b[0m\u001b[1;33m(\u001b[0m\u001b[1;33m)\u001b[0m\u001b[1;33m\u001b[0m\u001b[0m\n\u001b[0m\u001b[0;32m     65\u001b[0m     \u001b[0mprint\u001b[0m\u001b[1;33m(\u001b[0m\u001b[1;34m\"d20\"\u001b[0m\u001b[1;33m)\u001b[0m\u001b[1;33m\u001b[0m\u001b[0m\n\u001b[0;32m     66\u001b[0m     \u001b[0md\u001b[0m \u001b[1;33m=\u001b[0m \u001b[0minicializar\u001b[0m\u001b[1;33m(\u001b[0m\u001b[1;36m20\u001b[0m\u001b[1;33m,\u001b[0m\u001b[1;36m1\u001b[0m\u001b[1;33m/\u001b[0m\u001b[1;36m20\u001b[0m\u001b[1;33m,\u001b[0m\u001b[0mit\u001b[0m\u001b[1;33m,\u001b[0m\u001b[0mxo\u001b[0m\u001b[1;33m)\u001b[0m\u001b[1;33m\u001b[0m\u001b[0m\n",
      "\u001b[1;32m<ipython-input-68-120756ca4102>\u001b[0m in \u001b[0;36mtransInv\u001b[1;34m()\u001b[0m\n\u001b[0;32m     31\u001b[0m         \u001b[0mpr\u001b[0m \u001b[1;33m=\u001b[0m \u001b[1;33m(\u001b[0m\u001b[1;36m1\u001b[0m\u001b[1;33m-\u001b[0m\u001b[0mp\u001b[0m\u001b[1;33m)\u001b[0m\u001b[1;33m**\u001b[0m\u001b[0mn\u001b[0m\u001b[1;33m\u001b[0m\u001b[0m\n\u001b[0;32m     32\u001b[0m         \u001b[0mF\u001b[0m \u001b[1;33m=\u001b[0m \u001b[0mpr\u001b[0m\u001b[1;33m\u001b[0m\u001b[0m\n\u001b[1;32m---> 33\u001b[1;33m         \u001b[0mu\u001b[0m \u001b[1;33m=\u001b[0m \u001b[0mgenerar_aleatorio\u001b[0m\u001b[1;33m(\u001b[0m\u001b[1;33m)\u001b[0m\u001b[1;33m\u001b[0m\u001b[0m\n\u001b[0m\u001b[0;32m     34\u001b[0m         \u001b[0mct1\u001b[0m \u001b[1;33m=\u001b[0m \u001b[0mn\u001b[0m\u001b[1;33m\u001b[0m\u001b[0m\n\u001b[0;32m     35\u001b[0m         \u001b[1;32mwhile\u001b[0m \u001b[0mct1\u001b[0m \u001b[1;33m>\u001b[0m \u001b[1;36m0\u001b[0m\u001b[1;33m:\u001b[0m\u001b[1;33m\u001b[0m\u001b[0m\n",
      "\u001b[1;32m<ipython-input-68-120756ca4102>\u001b[0m in \u001b[0;36mgenerar_aleatorio\u001b[1;34m()\u001b[0m\n\u001b[0;32m     17\u001b[0m \u001b[1;32mdef\u001b[0m \u001b[0mgenerar_aleatorio\u001b[0m\u001b[1;33m(\u001b[0m\u001b[1;33m)\u001b[0m\u001b[1;33m:\u001b[0m\u001b[1;33m\u001b[0m\u001b[0m\n\u001b[0;32m     18\u001b[0m     \u001b[1;32mglobal\u001b[0m \u001b[0mxn\u001b[0m\u001b[1;33m\u001b[0m\u001b[0m\n\u001b[1;32m---> 19\u001b[1;33m     \u001b[0mx\u001b[0m \u001b[1;33m=\u001b[0m \u001b[1;33m(\u001b[0m\u001b[0ma\u001b[0m\u001b[1;33m*\u001b[0m\u001b[0mxn\u001b[0m \u001b[1;33m+\u001b[0m \u001b[0mc\u001b[0m\u001b[1;33m)\u001b[0m \u001b[1;33m%\u001b[0m \u001b[0mm\u001b[0m\u001b[1;33m\u001b[0m\u001b[0m\n\u001b[0m\u001b[0;32m     20\u001b[0m     \u001b[0mxn\u001b[0m \u001b[1;33m=\u001b[0m \u001b[0mx\u001b[0m\u001b[1;33m\u001b[0m\u001b[0m\n\u001b[0;32m     21\u001b[0m     \u001b[1;32mreturn\u001b[0m \u001b[1;33m(\u001b[0m\u001b[0mx\u001b[0m\u001b[1;33m/\u001b[0m\u001b[0mm\u001b[0m\u001b[1;33m)\u001b[0m\u001b[1;33m\u001b[0m\u001b[0m\n",
      "\u001b[1;31mMemoryError\u001b[0m: "
     ]
    }
   ],
   "source": [
    "import math\n",
    "import time\n",
    "from datetime import datetime\n",
    "\n",
    "a = 25214903917 \n",
    "m = 2 ** 48 - 1\n",
    "c = 11\n",
    "xn = 0\n",
    "\n",
    "def inicializar(nn,pp,cant,xo):\n",
    "    global n,p,cnt,xn\n",
    "    xn = xo\n",
    "    cnt = cant\n",
    "    n = nn\n",
    "    p = pp\n",
    "    \n",
    "def generar_aleatorio():\n",
    "    global xn\n",
    "    x = (a*xn + c) % m\n",
    "    xn = x\n",
    "    return (x/m)\n",
    "\n",
    "def transInv():\n",
    "    ct = cnt\n",
    "    a = 1\n",
    "    va = [0]*cnt\n",
    "    uu = [0]*cnt\n",
    "    while ct>0:\n",
    "        c = p/(1-p)\n",
    "        i = 0\n",
    "        pr = (1-p)**n\n",
    "        F = pr\n",
    "        u = generar_aleatorio()\n",
    "        ct1 = n\n",
    "        while ct1 > 0:\n",
    "            if(u<F):\n",
    "                va[i] = i+1\n",
    "                uu[i] = u\n",
    "                break\n",
    "            else:\n",
    "                pr = (c*(n-1)/(i+1))*pr\n",
    "                F = F + pr\n",
    "                i += 1\n",
    "            ct1-=1\n",
    "        ct-=1\n",
    "    print(str(va) + \" : \" + str(uu))\n",
    "    return va\n",
    "\n",
    "def sumar(a,b,d):\n",
    "    suma = [0]*cnt\n",
    "    for i in range(cnt):\n",
    "        suma[i]=a[i]+b[i]+d[i]\n",
    "    print(suma)\n",
    "    \n",
    "\n",
    "if __name__ == \"__main__\":\n",
    "    it = 1000\n",
    "    xo = datetime.now().microsecond\n",
    "    print(\"d4\")\n",
    "    inicializar(4,1/4,it,xo)\n",
    "    a = transInv()\n",
    "    print(\"d10\")\n",
    "    inicializar(10,1/10,it,xo)\n",
    "    b = transInv()\n",
    "    print(\"d20\")\n",
    "    d = inicializar(20,1/20,it,xo)\n",
    "    transInv()\n",
    "    #sumar(a,b,d)"
   ]
  },
  {
   "cell_type": "markdown",
   "metadata": {},
   "source": [
    "_(1 punto)_\n",
    "**8) Calcular el área de una elipse con el método de Monte Carlo.**\n",
    "\n",
    "    a) Implemente el método de Monte Carlo para calcular y mostrar el área estimada de una elipse con un semieje mayor $a = 7$ y semieje mejor $b = 4$ centrado en el origen $x,y = (0,0)$ generando $1000$ coordenadas aleatorias (X,Y) en el rango de $X=[-a,a]$ y $Y=[-b,b]$.\n",
    "    b) Calcule el área real de la elipse.\n",
    "    c) Grafique los puntos aleatorios generados que caen dentro del círculo en rojo y los que caen fuera del círculo en azul "
   ]
  },
  {
   "cell_type": "code",
   "execution_count": 30,
   "metadata": {},
   "outputs": [
    {
     "name": "stdout",
     "output_type": "stream",
     "text": [
      "a)\n",
      "Area Elipse Estimada:  85.568\n",
      "\n",
      "b)\n",
      "Area Elipse:  87.96459430051421\n",
      " \n",
      "c)\n"
     ]
    },
    {
     "data": {
      "image/png": "[encoded data removed]",
      "text/plain": [
       "<matplotlib.figure.Figure at 0x35bdd90>"
      ]
     },
     "metadata": {},
     "output_type": "display_data"
    }
   ],
   "source": [
    "import math\n",
    "import time\n",
    "from datetime import datetime\n",
    "import matplotlib.pyplot as pl\n",
    "%matplotlib inline\n",
    "\n",
    "xn1 = datetime.now().microsecond\n",
    "xn2 = 3000000 + datetime.now().microsecond\n",
    "\n",
    "a = 25214903917 \n",
    "m = 2 ** 48 - 1\n",
    "c = 11\n",
    "\n",
    "def generar_aleatorio(x):\n",
    "    xn = (a*x + c) % m\n",
    "    return (xn/m)\n",
    "\n",
    "def montecarlo_d(mn,a,b,c,d,f):\n",
    "    n = 0\n",
    "    x = 0\n",
    "    y = 0\n",
    "    xni = xn1\n",
    "    xnj = xn2\n",
    "    vfx = []\n",
    "    vdx = []\n",
    "    vfy = []\n",
    "    vdy = []\n",
    "    suma = 0\n",
    "    while n<mn:\n",
    "        u1 = generar_aleatorio(xni)\n",
    "        u2 = generar_aleatorio(xnj)\n",
    "        xni = u1*m\n",
    "        xnj = u2*m\n",
    "        x = a + (b-a)*u1\n",
    "        y = c + (d-c)*u2\n",
    "        if(f(x,y)<=1):\n",
    "            vdx.append(x)\n",
    "            vdy.append(y)\n",
    "            suma = suma + 1\n",
    "        else:\n",
    "            vfx.append(x)\n",
    "            vfy.append(y)\n",
    "            \n",
    "        n = n + 1\n",
    "    return suma/n*4*b*d,vdx,vdy,vfx,vfy,b,d\n",
    "\n",
    "def graf(v1,k1,v2,k2,a,b):\n",
    "    \n",
    "    pl.ylabel('Y')\n",
    "    pl.xlabel('X')\n",
    "   \n",
    "    pl.plot(v1,k1,'ro',color=\"red\")\n",
    "    pl.plot(v2,k2,'ro',color=\"blue\")\n",
    "    pl.grid(True)\n",
    "    pl.axis([-a,a,-b,b])\n",
    "    pl.show() \n",
    "\n",
    "if __name__ == \"__main__\":\n",
    "    a = 7\n",
    "    b = 4\n",
    "    n = 1000\n",
    "    areaE,vdx,vdy,vfx,vfy,c,d = montecarlo_d(n,-a,a,-b,b,lambda x,y: x**2/a**2 + y**2/b**2)\n",
    "    area = math.pi*a*b\n",
    "    print(\"a)\")\n",
    "    print(\"Area Elipse Estimada: \", areaE)\n",
    "    print(\"\")\n",
    "    print(\"b)\")\n",
    "    print(\"Area Elipse: \",area)\n",
    "    print(\" \")\n",
    "    print(\"c)\")\n",
    "    graf(vdx,vdy,vfx,vfy,c,d)\n",
    "    #print(\"Diferencia: \",abs(areaE - area))"
   ]
  },
  {
   "cell_type": "code",
   "execution_count": null,
   "metadata": {},
   "outputs": [],
   "source": []
  }
 ],
 "metadata": {
  "kernelspec": {
   "display_name": "Python 3",
   "language": "python",
   "name": "python3"
  },
  "language_info": {
   "codemirror_mode": {
    "name": "ipython",
    "version": 3
   },
   "file_extension": ".py",
   "mimetype": "text/x-python",
   "name": "python",
   "nbconvert_exporter": "python",
   "pygments_lexer": "ipython3",
   "version": "3.6.3"
  }
 },
 "nbformat": 4,
 "nbformat_minor": 2
}
