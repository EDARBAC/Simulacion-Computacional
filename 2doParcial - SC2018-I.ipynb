{
 "cells": [
  {
   "cell_type": "markdown",
   "metadata": {
    "colab_type": "text",
    "id": "rkEoMbSALBAc"
   },
   "source": [
    "## 2do Parcial - Simulación Computacional 2018-I"
   ]
  },
  {
   "cell_type": "markdown",
   "metadata": {
    "colab_type": "text",
    "id": "3s_BK489LBAe"
   },
   "source": [
    "## 1. (1.5 puntos)\n",
    "\n",
    "Se tiene un sistema de línea de espera con un servidor y capacidad infinita (Modelo de Colas G/G/1) (Ver [Presentación](https://docs.google.com/a/unillanos.edu.co/presentation/d/19dSItA2blI4TOf8IExeJWjmF_2VWCRa7hqKkEdYuJfY/edit?usp=sharing) ), en el cual tanto los tiempos de llegada entre clientes, así como los tiempos de atención del servidor se comportan como  variables aleatorias generadas de distribuciones de probabilidad exponenciales, en donde en promedio llegan A clientes por minuto al sistema y el servidor atiende en promedio B clientes por minuto. La simulación inicia en el tiempo $t=0$ y se deja de permitir el ingreso de mas clientes en el sistema en el tiempo $T=100$.\n",
    "\n",
    "Para analizar el sistema Ud. debe usar la implementación de acuerdo con el Modelo de Colas G/G/1 visto en clase (diapositivas 42 y 43 [Presentación](https://docs.google.com/a/unillanos.edu.co/presentation/d/19dSItA2blI4TOf8IExeJWjmF_2VWCRa7hqKkEdYuJfY/edit?usp=sharing) )). \n",
    "\n",
    "Para la generación de las variables aleatorias con distribución exponencial debe usar el método de la inversión para variables aleatorias continuas usando generadores congruenciales mixtos. _Ayuda: El método de inversión para variables aleatorias continuas debe usar la función inversa $F^{-1}(p)$ de la distribución de probabilidad acumulada de la distribución exponencial en donde el valor $p$ proviene del generador congruencial mixto_.\n",
    "\n",
    "Para la generación de las variables aleatorias de los tiempos entre las llegadas de clientes (variable aleatoria $X$) debe generar variables aleatorias continuas de una distribución exponencial con $\\lambda = A$ a partir de un generador congruencial Borland C/C++ (i.e. $a = 22695477$, $c = 1$, $m=2^{32}$) y semilla $X_0 = 123456789$.\n",
    "\n",
    "Para la generación de las variables aleatorias de los tiempos de atención del servidor (variable aleatoria $Y$) debe generar variables aleatorias continuas de una distribución exponencial con $\\lambda = B$ a partir de un generador congruencial RANDU (i.e. $a = 65539$, $c = 0$, $m=2^{31}$) y semilla $X_0 = 987654321$.\n",
    "\n",
    "Con su implementación para el análisis del sistema por favor responda lo siguiente:\n",
    "\n",
    "1. Tiempo promedio de los clientes en el sistema.\n",
    "2. Tiempo promedio de los clientes en la cola.\n",
    "3. Tiempo transcurrido desde $T$ hasta que el último cliente abandona el sistema.\n",
    "4. Número máximo de clientes en el sistema durante la simulación.\n",
    "\n",
    "Para los siguientes casos:\n",
    "\n",
    "    A. Para A = 3 y B = 5.\n",
    "    B. Para A = 6 y B = 2.\n",
    "    C. Para A = 4 y B = 4.\n",
    "    D. Para A = 2 y B = 3.\n",
    "\n",
    "Analice y discuta brevemente los resultados."
   ]
  },
  {
   "cell_type": "code",
   "execution_count": null,
   "metadata": {},
   "outputs": [],
   "source": [
    "t = 0 \n",
    "tsuc = 0\n",
    "NLL = 0\n",
    "Ns = 0\n",
    "n = 0\n",
    "TSuctLL = 0\n",
    "TSuctS = 0\n",
    "M = 0\n",
    "LLi = 0\n",
    "Si = 0\n",
    "Servi = 0\n",
    "T = 100\n",
    "\n",
    "def llegada():\n",
    "    t = tsuc\n",
    "    n = n + 1\n",
    "    NLL = NLL + 1\n",
    "    \n",
    "    \n",
    "    \n"
   ]
  },
  {
   "cell_type": "markdown",
   "metadata": {
    "colab_type": "text",
    "id": "VU7eusPgLBAe"
   },
   "source": [
    "## 2. (1.5 puntos)\n",
    "\n",
    "**Tomando como base el ejemplo de SimPy \"Bank Renege\" implementado por Ud. en el Taller T8 de Caso de uso de eventos discretos: Bank Renege, (http://simpy.readthedocs.io/en/latest/examples/bank_renege.html), y en el caso en el cual se tienen los siguientes valores:**\n",
    "\n",
    "    RANDOM_SEED = 666\n",
    "    NEW_CUSTOMERS = 5 \n",
    "    INTERVAL_CUSTOMERS = 5.0\n",
    "    MIN_PATIENCE = 2\n",
    "    MAX_PATIENCE = 4\n",
    "\n",
    "**Responda lo siguiente:**\n",
    "\n",
    "    ¿En qué tiempo de simulación y cuánto tiempo esperó el primer cliente que 'renegó' (abandonó) de tanto esperar en la fila?"
   ]
  },
  {
   "cell_type": "code",
   "execution_count": 3,
   "metadata": {},
   "outputs": [
    {
     "name": "stdout",
     "output_type": "stream",
     "text": [
      " 0.0000 Customer00: Here I am\n",
      " 0.0000 Customer00: Waited  0.000\n",
      "1\n",
      "###\n",
      " 3.0451 Customer01: Here I am\n",
      "1\n",
      "###\n",
      " 6.5171 Customer02: Here I am\n",
      " 6.6678 Customer01: RENEGED after  3.623\n",
      " 6.8379 Customer00: Finished\n",
      " 6.8379 Customer02: Waited  0.321\n",
      " 8.4148 Customer02: Finished\n",
      "0\n",
      "###\n",
      "10.5507 Customer03: Here I am\n",
      "10.5507 Customer03: Waited  0.000\n",
      "1\n",
      "###\n",
      "18.9812 Customer04: Here I am\n",
      "22.4529 Customer03: Finished\n",
      "22.4529 Customer04: Waited  3.472\n",
      "22.6557 Customer04: Finished\n",
      "0\n",
      "###\n"
     ]
    }
   ],
   "source": [
    "import random\n",
    "import simpy\n",
    "\n",
    "RANDOM_SEED = 666\n",
    "NEW_CUSTOMERS = 5  # Total number of customers\n",
    "INTERVAL_CUSTOMERS = 5.0  # Generate new customers roughly every x seconds\n",
    "MIN_PATIENCE = 2  # Min. customer patience\n",
    "MAX_PATIENCE = 4  # Max. customer patience\n",
    "\n",
    "def source(env, number, interval, counter):\n",
    "    for i in range(number):\n",
    "        c = customer(env, 'Customer%02d' % i, counter, time_in_bank=12.0)\n",
    "        env.process(c)\n",
    "        t = random.expovariate(1.0 / interval)\n",
    "        yield env.timeout(t)\n",
    "        print(counter.count)\n",
    "\n",
    "def customer(env, name, counter, time_in_bank):\n",
    "    \"\"\"Customer arrives, is served and leaves.\"\"\"\n",
    "    arrive = env.now\n",
    "    print('%7.4f %s: Here I am' % (arrive, name))\n",
    "\n",
    "    with counter.request() as req:\n",
    "        patience = random.uniform(MIN_PATIENCE, MAX_PATIENCE)\n",
    "        # Wait for the counter or abort at the end of our tether\n",
    "        results = yield req | env.timeout(patience)\n",
    "\n",
    "        wait = env.now - arrive\n",
    "\n",
    "        if req in results:\n",
    "            # We got to the counter\n",
    "            print('%7.4f %s: Waited %6.3f' % (env.now, name, wait))\n",
    "\n",
    "            tib = random.expovariate(1.0 / time_in_bank)\n",
    "            yield env.timeout(tib)\n",
    "            print('%7.4f %s: Finished' % (env.now, name))\n",
    "\n",
    "        else:\n",
    "            # We reneged\n",
    "            print('%7.4f %s: RENEGED after %6.3f' % (env.now, name, wait))\n",
    "\n",
    "random.seed(RANDOM_SEED)\n",
    "env = simpy.Environment()\n",
    "\n",
    "counter = simpy.Resource(env, capacity=1)\n",
    "env.process(source(env, NEW_CUSTOMERS, INTERVAL_CUSTOMERS, counter))\n",
    "env.run()"
   ]
  },
  {
   "cell_type": "code",
   "execution_count": null,
   "metadata": {},
   "outputs": [],
   "source": [
    "En el tiempo de simulación 6.6678  el cliente 'Customer01' se renego o abandono despues de esperar 3.623\n",
    "hasta que se agoto su paciencia"
   ]
  },
  {
   "cell_type": "markdown",
   "metadata": {
    "colab_type": "text",
    "id": "9Z0oRAJ9LBAf"
   },
   "source": [
    "## 3. (1 puntos)\n",
    "\n",
    "**¿Qué hace el siguiente código de NetLogo?**\n",
    "\n",
    "    to iniciar\n",
    "    ca\n",
    "    crt 1\n",
    "    ask turtles [pd repeat 3 [fd 7 rt 120] pu]\n",
    "    end"
   ]
  },
  {
   "cell_type": "code",
   "execution_count": null,
   "metadata": {},
   "outputs": [],
   "source": [
    "Es un procedimiento en el que se crea un agente tortuga y se le definen unas caracteristicas. Se repite 3 veces que la \n",
    "tortuga avance 7 unidades, rote 120 grados y se pinte la trayectoria, donde primero la tortuga avanza 7 unidades \n",
    "desde la coordenada  (0,0) despues de rotar 120 grados con respecto a la ultima posicion en que quedo, luego dos veces \n",
    "repite: rotar 120 grados y avanzar 7 unidades, y finalmente termina en  la posicion inicial, cuando avanza,con pd va \n",
    "pintando la trayectoria, todo esto hace que se dibuje un triangulo, pu y pd son los que se encargar de pintar la linea."
   ]
  },
  {
   "cell_type": "markdown",
   "metadata": {
    "colab_type": "text",
    "id": "Mxv7g0r4LBAg"
   },
   "source": [
    "## 4. (1 puntos)\n",
    "**¿Cúales de las siguiente reglas no pertenecen al juego de la vida de Conway?**\n",
    "\n",
    "1. Cualquier célula muerta con dos o tres vecinos vivos sigue muerta a la siguiente generación.\n",
    "2. Cualquier célula viva con dos o tres vecinos vivos vive a la siguiente generación.\n",
    "3. Cualquier célula viva con cuatro vecinos vivos muere por falta de población.\n",
    "4. Cualquier célula viva con más de tres vecinos vivos muerte por un exceso de población.\n",
    "5. Cualquier célula muerta con exactamente tres vecinos vivos se convierte en una célula viva por reproducción.\n",
    "6. Cualquier célula viva con menos de dos vecinos vivos muere por falta de población."
   ]
  },
  {
   "cell_type": "code",
   "execution_count": 0,
   "metadata": {
    "colab": {
     "autoexec": {
      "startup": false,
      "wait_interval": 0
     }
    },
    "colab_type": "code",
    "id": "JKpxeumWLBAg"
   },
   "outputs": [],
   "source": [
    "1 y 3"
   ]
  }
 ],
 "metadata": {
  "colab": {
   "default_view": {},
   "name": "2doParcial - SC2018-I.ipynb",
   "provenance": [],
   "version": "0.3.2",
   "views": {}
  },
  "kernelspec": {
   "display_name": "Python 3",
   "language": "python",
   "name": "python3"
  },
  "language_info": {
   "codemirror_mode": {
    "name": "ipython",
    "version": 3
   },
   "file_extension": ".py",
   "mimetype": "text/x-python",
   "name": "python",
   "nbconvert_exporter": "python",
   "pygments_lexer": "ipython3",
   "version": "3.6.3"
  }
 },
 "nbformat": 4,
 "nbformat_minor": 1
}
