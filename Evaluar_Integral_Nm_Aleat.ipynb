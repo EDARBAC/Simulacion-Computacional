{
 "cells": [
  {
   "cell_type": "code",
   "execution_count": 9,
   "metadata": {},
   "outputs": [
    {
     "name": "stdout",
     "output_type": "stream",
     "text": [
      "Estimacion PI:  3.1421618381618384\n"
     ]
    }
   ],
   "source": [
    "#Evaluando Integral con numeros aleatorios\n",
    "from datetime import datetime\n",
    "import time\n",
    "\n",
    "#semillas\n",
    "xn1 = datetime.now().microsecond\n",
    "time.sleep(3)\n",
    "xn2 = datetime.now().microsecond\n",
    "\n",
    "a = 25214903917 \n",
    "m = 2 ** 48 - 1\n",
    "c = 11\n",
    "\n",
    "def adecuar(u):\n",
    "    return (2*u - 1)\n",
    "\n",
    "def met(n):\n",
    "    global xn1, xn2\n",
    "    y = 0\n",
    "    x = 0\n",
    "    i = 0\n",
    "    cnt = 0\n",
    "    while i < n:\n",
    "        x = generar_aleatorio(xn1)\n",
    "        xn1 = x*m\n",
    "        x = adecuar(x)\n",
    "        y = generar_aleatorio(xn2)\n",
    "        xn2 = y*m\n",
    "        y = adecuar(y)\n",
    "        if(x**2 + y**2 <= 1):\n",
    "            cnt += 1\n",
    "        i += 1\n",
    "    \n",
    "    print(\"Estimacion PI: \", (cnt/n)*4)\n",
    "    \n",
    "def generar_aleatorio(xn):\n",
    "    x = (a*xn + c) % m\n",
    "    return (x/m)\n",
    "\n",
    "if __name__ == \"__main__\":\n",
    "    met(1001000)\n",
    "    "
   ]
  },
  {
   "cell_type": "code",
   "execution_count": null,
   "metadata": {
    "collapsed": true
   },
   "outputs": [],
   "source": []
  }
 ],
 "metadata": {
  "kernelspec": {
   "display_name": "Python 3",
   "language": "python",
   "name": "python3"
  },
  "language_info": {
   "codemirror_mode": {
    "name": "ipython",
    "version": 3
   },
   "file_extension": ".py",
   "mimetype": "text/x-python",
   "name": "python",
   "nbconvert_exporter": "python",
   "pygments_lexer": "ipython3",
   "version": "3.6.3"
  }
 },
 "nbformat": 4,
 "nbformat_minor": 2
}
