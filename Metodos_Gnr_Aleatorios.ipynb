{
 "cells": [
  {
   "cell_type": "code",
   "execution_count": 2,
   "metadata": {},
   "outputs": [
    {
     "name": "stdout",
     "output_type": "stream",
     "text": [
      "x0: 659874\n",
      " \n",
      "Valores:  [0.433695, 0.91353, 0.53706, 0.433443, 0.872834, 0.839191, 0.241534, 0.338673, 0.6994, 0.16036, 0.715329, 0.695578, 0.828754, 0.833192, 0.208908, 0.642552, 0.873072, 0.254717, 0.88075, 0.720562, 0.209595, 0.930064, 0.19044, 0.267393, 0.499016, 0.16968, 0.791302, 0.158855, 0.234911, 0.183177, 0.553813, 0.708838, 0.45131, 0.680716, 0.374272, 0.79529, 0.486184, 0.374881, 0.535764, 0.43063, 0.442196, 0.537302, 0.693439, 0.857646, 0.556661, 0.871468, 0.456475, 0.369425, 0.47483, 0.463528]\n",
      " \n",
      "Periodo:  0\n"
     ]
    }
   ],
   "source": [
    "#Metodo de cuadrados medios (MidSquare)\n",
    "import math\n",
    "\n",
    "x0 = 0\n",
    "tam = 0\n",
    "\n",
    "def entrada_datos():\n",
    "    global x0\n",
    "    x0 = abs(int(input(\"x0: \")))\n",
    "    \n",
    "def generar_aleatorios(cantidad):\n",
    "    global x0\n",
    "    tam = len(str(x0))\n",
    "    valores = []\n",
    "    aux = \"\"\n",
    "    n = tam / 2\n",
    "    \n",
    "    if (tam % 2 == 0):\n",
    "        for i in range(cantidad):\n",
    "            xn = x0**2\n",
    "            tamm = len(str(xn)) \n",
    "            aux = \"\"\n",
    "            if(tamm % 2 != 0):\n",
    "                aux += \"0\"\n",
    "            aux+=str(xn)\n",
    "            x0 = int(aux[int(n):int(3*n)])\n",
    "            valores.append(float('0.'+str(x0)))\n",
    "    else:\n",
    "        print(\"No es un número valido\")\n",
    "    print(\"Valores: \",valores)\n",
    "    print(\" \")\n",
    "    encontrar_ciclo(valores)\n",
    "    \n",
    "    \n",
    "def encontrar_ciclo(valores):\n",
    "    n = len(valores)\n",
    "    val_c = valores[:]\n",
    "    aux = []\n",
    "    i = 0\n",
    "    ind = 0\n",
    "    while i < n:\n",
    "        i = 0\n",
    "        val = val_c[i]\n",
    "        #print (val)\n",
    "        val_c.pop(i)\n",
    "        n = len(val_c)\n",
    "        contador = 0\n",
    "        x = 0\n",
    "        while x < n:\n",
    "            if(val_c[x] == val):\n",
    "                contador += 1\n",
    "                val_c.pop(x)\n",
    "                n = len(val_c)\n",
    "            else:\n",
    "                x+=1\n",
    "        aux.append([])\n",
    "        aux[ind].append(val)\n",
    "        aux[ind].append(contador)\n",
    "        ind+=1\n",
    "        if(contador == 4):\n",
    "            val_c.remove(val)\n",
    "            n = len(val_c)\n",
    "        n = len(val_c)\n",
    "        \n",
    "    ciclo = []\n",
    "    \n",
    "    for i in range(len(aux)):\n",
    "        if(aux[i][1]>1):\n",
    "            ciclo.append(aux[i][0])\n",
    "    #print(\"Ciclo: \",ciclo)\n",
    "    print(\"Periodo: \", len(ciclo))\n",
    "    \n",
    "if __name__ == \"__main__\":\n",
    "    entrada_datos()\n",
    "    print(\" \")\n",
    "    generar_aleatorios(50)\n"
   ]
  },
  {
   "cell_type": "code",
   "execution_count": 3,
   "metadata": {},
   "outputs": [
    {
     "name": "stdout",
     "output_type": "stream",
     "text": [
      "0.23333333333333334\n",
      "0.16666666666666666\n",
      "0.8333333333333334\n",
      "0.16666666666666666\n",
      "0.8333333333333334\n",
      "0.16666666666666666\n",
      "0.8333333333333334\n",
      "0.16666666666666666\n",
      "0.8333333333333334\n",
      "0.16666666666666666\n"
     ]
    }
   ],
   "source": [
    "import math\n",
    "import time\n",
    "\n",
    "xn = 7\n",
    "a = 5\n",
    "m = 150\n",
    "c = 0\n",
    "\n",
    "def generar_aleatorio():\n",
    "    global xn\n",
    "    x = (a*xn + c) % m\n",
    "    xn = x\n",
    "    return (x/m)\n",
    "\n",
    "for i in range(10):\n",
    "    print(generar_aleatorio())\n",
    "\n"
   ]
  },
  {
   "cell_type": "code",
   "execution_count": null,
   "metadata": {
    "collapsed": true
   },
   "outputs": [],
   "source": []
  }
 ],
 "metadata": {
  "kernelspec": {
   "display_name": "Python 3",
   "language": "python",
   "name": "python3"
  },
  "language_info": {
   "codemirror_mode": {
    "name": "ipython",
    "version": 3
   },
   "file_extension": ".py",
   "mimetype": "text/x-python",
   "name": "python",
   "nbconvert_exporter": "python",
   "pygments_lexer": "ipython3",
   "version": "3.6.3"
  }
 },
 "nbformat": 4,
 "nbformat_minor": 2
}
