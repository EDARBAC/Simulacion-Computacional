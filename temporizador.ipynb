{
 "cells": [
  {
   "cell_type": "code",
   "execution_count": null,
   "metadata": {
    "collapsed": true
   },
   "outputs": [],
   "source": [
    "import threading\n",
    "\n",
    "class RecurringTimer(threading.Timer):\n",
    "    \"\"\" Own implementation of timer to make it recurring\n",
    " \n",
    "    Timer (based on threading._Timer)\n",
    "    that invokes a method at a certain interval of seconds\n",
    " \n",
    "    \"\"\"\n",
    "     \n",
    "    def __init__ (self, *args, **kwargs):\n",
    "        threading.Timer.__init__ (self, *args, **kwargs) \n",
    "        self.setDaemon (True)\n",
    "        self._running = 0\n",
    "        self._destroy = 0\n",
    "        self.start()\n",
    " \n",
    "    def run (self):\n",
    "        while True:\n",
    "            self.finished.wait (self.interval)\n",
    "            if self._destroy:\n",
    "                return;\n",
    "            if self._running:\n",
    "                self.function (*self.args, **self.kwargs)\n",
    " \n",
    "    def start_timer (self):\n",
    "        self._running = 1\n",
    " \n",
    "    def stop_timer (self):\n",
    "        self._running = 0\n",
    " \n",
    "    def is_running (self):\n",
    "        return self._running\n",
    " \n",
    "    def destroy_timer (self):\n",
    "        self._destroy = 1;\n",
    "\n",
    "if __name__ == \"__main__\":\n",
    "    def sayhi (name):\n",
    "        print ('hi %s' % name)\n",
    " \n",
    "    t = RecurringTimer(1.0, sayhi, ['alex952'])\n",
    "    t.start_timer()"
   ]
  }
 ],
 "metadata": {
  "kernelspec": {
   "display_name": "Python 3",
   "language": "python",
   "name": "python3"
  },
  "language_info": {
   "codemirror_mode": {
    "name": "ipython",
    "version": 3
   },
   "file_extension": ".py",
   "mimetype": "text/x-python",
   "name": "python",
   "nbconvert_exporter": "python",
   "pygments_lexer": "ipython3",
   "version": "3.6.3"
  }
 },
 "nbformat": 4,
 "nbformat_minor": 2
}
